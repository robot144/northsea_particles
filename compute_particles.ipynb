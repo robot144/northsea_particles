{
 "cells": [
  {
   "attachments": {},
   "cell_type": "markdown",
   "metadata": {},
   "source": [
    "## Settings for Matroos database\n",
    "\n",
    "The matroos database is the operational forecasting database of Rijkswaterstaat. Several times a day new forecasts are made with several hydrodynamic (tides and surge) models and wave models. \n",
    "The most important models in this context are:\n",
    "- dd zuno-v4 - this is the current model for the southern North-Sea (available 21-april-2020 until now)\n",
    "- harmonie - the weather model currently used at KNMI\n",
    "\n",
    "![dd zunov4](https://matroos.deltares.nl/direct/get_matroos.php?source=dcsmv6_zunov4_zuno_kf_harmonie&color=VELUV_ABS&contour=&anal=&from=202305050900&z=0&xmin=-6&xmax=11.6&ymin=49.2&ymax=57.2&smin=0.000&smax=1&size=640&smincolor=blue&smaxcolor=yellow&coords=WGS84&scontour=&vx=25&vy=25&vecsize=1&xn=1&yn=1&vector=&format=png \"Zunv4 model\")\n"
   ]
  },
  {
   "cell_type": "code",
   "execution_count": null,
   "metadata": {},
   "outputs": [],
   "source": [
    "# installation on colab\n",
    "# run this cell to install the required packages, but only once\n",
    "# You may have to restart the runtime after running this cell (Runtime -> Restart runtime)\n",
    "try:\n",
    "  import google.colab\n",
    "  IN_COLAB = True\n",
    "except:\n",
    "  IN_COLAB = False\n",
    "if IN_COLAB:\n",
    "  %pip install parcels cftime netCDF4 cgen zarr Cartopy pymbolic\n",
    "  # fix from this site https://github.com/googlecolab/colabtools/issues/3134\n",
    "  # TODO: is this still needed?\n",
    "  #!pip install importlib-metadata==4.0.1\n",
    "  #!pip install xarray==0.18.1"
   ]
  },
  {
   "cell_type": "code",
   "execution_count": null,
   "metadata": {},
   "outputs": [],
   "source": [
    "# extenal modules\n",
    "import requests\n",
    "import numpy as np\n",
    "import pandas as pd\n",
    "import matplotlib.pyplot as plt\n",
    "import xarray as xr\n",
    "import os\n",
    "import getpass\n",
    "import shutil\n",
    "from parcels import FieldSet, ParticleSet, Variable, JITParticle, ScipyParticle, AdvectionRK4, plotTrajectoriesFile\n",
    "import math\n",
    "from datetime import timedelta\n",
    "import dateutil\n",
    "from operator import attrgetter\n",
    "import shutil"
   ]
  },
  {
   "cell_type": "code",
   "execution_count": null,
   "metadata": {},
   "outputs": [],
   "source": [
    "# Settings for Matroos\n",
    "# use:\n",
    "# https://matroos.rws.nl if you have an account at that server or\n",
    "# https://matroos.deltares.nl/ if you have a vpn connection to Deltares or are working in a Deltares office \n",
    "database_url = \"https://matroos.rws.nl\"\n",
    "print(\"Enter your Matroos username and password\\n\")\n",
    "username = getpass.getpass(prompt=\"Username:\")\n",
    "password = getpass.getpass(prompt=\"Password:\") #Do not save the password to a public location, such as at github\n",
    "water_model = \"dcsmv6_zunov4_zuno_kf_harmonie\"\n",
    "#print(f'username={username},password={password}')"
   ]
  },
  {
   "cell_type": "code",
   "execution_count": null,
   "metadata": {},
   "outputs": [],
   "source": [
    "# Check the connection to the server\n",
    "# If you get a data-time for today then everything is working\n",
    "# There is no need to re-run this cell all the time, since it's just a check\n",
    "\n",
    "# Download url with get parameters \n",
    "url=f'{database_url}/direct/get_anal_times.php?database=maps2d&loc=&source={water_model}&unit=&tstart=&tstop=&timezone=&most_recent=5'\n",
    "\n",
    "# send request to server\n",
    "r = requests.get(url, auth=(username, password))\n",
    "print(f'response = {r}  [200 is good]\\n')\n",
    "temp_file = 'temporary_file_with_times.csv'\n",
    "open(temp_file, 'wb').write(r.content)\n",
    "# download data into a pandas dataframe\n",
    "df = pd.read_csv(temp_file, sep=';', index_col=0, parse_dates=True, dayfirst=True)\n",
    "os.remove(temp_file)\n",
    "df"
   ]
  },
  {
   "cell_type": "code",
   "execution_count": null,
   "metadata": {},
   "outputs": [],
   "source": [
    "# Settings for collecting the data\n",
    "#initial and final date and time in timezone UTCC (NL winter time is UTC+1, NL summer time is UTC+2)\n",
    "tstart = \"2022-10-01 00:00:00\" # start of the period of interest (year-month-day hour:minute:second)\n",
    "tstop  = \"2022-10-02 00:00:00\" # end of the period of interest\n",
    "longitude_min = 4.0 # minimum longitude (most western point in degrees)\n",
    "longitude_max = 6.0 # maximum longitude (most eastern point in degrees)\n",
    "latitude_min = 53.0 # minimum latitude (most southern point in degrees)\n",
    "latitude_max = 54.0 # maximum latitude (most northern point in degrees)\n",
    "cellx = 100 # number of data points in x-direction (larger will give more detail, but also result in larger files)\n",
    "celly = 100 # number of data points in y-direction ( you should start carefully with 100, and use an image to check if the data has sufficient detail; see image below)\n",
    "# The data has the form of a cube with directions x, y and time. The size of the cube is (cellx,celly,ntime) and proportional in filesize to the prduct of these three numbers. For larger values the database will become slower and beyond a certain size it will not respond anymore.\n",
    "\n",
    "\n",
    "# no need to change anything below this line\n",
    "fieldoutput=\"VELU,VELV,VELUV_ABS,SEP\" #download these variables (velocity and waterlevel)\n",
    "stridetime=1 # collect all times or skip some (1 means all times, 2 means every second time, 3 means every third time, etc.)\n",
    "\n",
    "#reformat time from for example \"2022-10-01 00:00:00\" to \"202210010000\"\n",
    "tstart_str = tstart.replace(\"-\",\"\").replace(\" \",\"\").replace(\":\",\"\")\n",
    "tstop_str = tstop.replace(\"-\",\"\").replace(\" \",\"\").replace(\":\",\"\")\n"
   ]
  },
  {
   "cell_type": "code",
   "execution_count": null,
   "metadata": {},
   "outputs": [],
   "source": [
    "# Download the data from the server\n",
    "\n",
    "#if folder data does not exist, create it\n",
    "if not os.path.exists(\"data\"):\n",
    "    os.makedirs(\"data\")\n",
    "\n",
    "#compose url\n",
    "url = database_url + \"/direct/get_matroos.php?source=\" + water_model + \"&anal=000000000000&z=0&xmin=\" + str(longitude_min) + \"&xmax=\" + str(longitude_max) + \"&ymin=\" + str(latitude_min) + \"&ymax=\" + str(latitude_max) + \"&coords=WGS84&xmin_abs=\" + str(longitude_min) + \"&xmax_abs=\" + str(longitude_max) + \"&ymin_abs=\" + str(latitude_min) + \"&ymax_abs=\" + str(latitude_max) + \"&color=\" + fieldoutput + \"&interpolate=size&now=\" + tstop_str + \"&to=\" + tstop_str + \"&from=\" + tstart_str + \"&outputformat=nc&stridex=&stridey=&stridetime=\" + str(stridetime) + \"&xn=\" + str(cellx) + \"&yn=\" + str(celly) + \"&celly=\" + str(celly) + \"&cellx=\" + str(cellx) + \"&fieldoutput=\" + fieldoutput + \"&format=nc\"\n",
    "print(f'url={url}\\n')\n",
    "# send request to server\n",
    "print(\"Be patient, this can take a while\")\n",
    "r = requests.get(url, auth=(username, password))\n",
    "print(f'response = {r}  [200 is good]\\n')\n",
    "# save data to file\n",
    "filename = \"data/\" + water_model + \"_\" + tstart_str + \"_\" + tstop_str + \".nc\"\n",
    "f=open(filename, \"wb\")\n",
    "f.write(r.content)\n",
    "f.close()\n"
   ]
  },
  {
   "cell_type": "code",
   "execution_count": null,
   "metadata": {},
   "outputs": [],
   "source": [
    "# Plot the last time step of the data\n",
    "\n",
    "# open data file with xarray\n",
    "filename = \"data/\" + water_model + \"_\" + tstart_str + \"_\" + tstop_str + \".nc\"\n",
    "ds = xr.open_dataset(filename)\n",
    "x=ds['x'][:]\n",
    "y=ds['y'][:]\n",
    "uv_abs=ds['VELUV_ABS'][-1,:,:]\n",
    "fig, ax = plt.subplots(figsize=(10, 6))\n",
    "p1=ax.pcolormesh(x,y,uv_abs) # plot last time step of velocity magnitude\n",
    "fig.colorbar(p1)\n",
    "stide=10 # plot every stide-th arrow\n",
    "ax.quiver(x[::stide],y[::stide],ds['VELU'][-1,::stide,::stide],ds['VELV'][-1,::stide,::stide],scale=10) \n",
    "plt.title(f'Currents at time {ds[\"time\"][-1].values}')\n",
    "#ds "
   ]
  },
  {
   "attachments": {},
   "cell_type": "markdown",
   "metadata": {},
   "source": [
    "## Releasing particles in the field"
   ]
  },
  {
   "cell_type": "code",
   "execution_count": null,
   "metadata": {},
   "outputs": [],
   "source": [
    "# settings for the particle tracking\n",
    "water_filename = \"data/\" + water_model + \"_\" + tstart_str + \"_\" + tstop_str + \".nc\"\n",
    "particle_filename=\"ZUNO_Particles.zarr\"\n",
    "initial_longitude = 5.0 # longitude of the initial position of the particle\n",
    "initial_latitude = 53.5 # latitude of the initial position of the particle\n",
    "initial_time = tstart # time of the initial position of the particle (start of data is tstart, or give explicit time in format \"2022-10-01 00:00:00\")\n",
    "output_timestep = timedelta(hours=1) # time step of the output\n",
    "dt=timedelta(minutes=5) # time step of the numerical computation\n",
    "simulation_time = timedelta(days=1) # total simulation time"
   ]
  },
  {
   "cell_type": "code",
   "execution_count": null,
   "metadata": {},
   "outputs": [],
   "source": [
    "# Compute the particle trajectories\n",
    "\n",
    "# remove particle folder if it alreadt exists\n",
    "if os.path.exists(particle_filename):\n",
    "  shutil.rmtree(particle_filename)\n",
    "\n",
    "# open data file with xarray\n",
    "ds_water = xr.open_dataset(water_filename)\n",
    "# create fieldset (input data for the particle tracking)\n",
    "variables = {'U': 'VELU',\n",
    "             'V': 'VELV'}\n",
    "dimensions = { 'U': {'lat': 'y', 'lon': 'x', 'time': 'time'}, 'V': {'lat': 'y', 'lon': 'x', 'time': 'time'} }\n",
    "#fieldset = FieldSet.from_netcdf(filename, variables, dimensions, allow_time_extrapolation=True)\n",
    "fieldset = FieldSet.from_xarray_dataset(ds_water,variables,dimensions)\n",
    "\n",
    "# create particles\n",
    "t0=dateutil.parser.parse(initial_time)\n",
    "pset = ParticleSet.from_list(fieldset=fieldset,       # the fields on which the particles are advected\n",
    "                             pclass=JITParticle,      # the type of particles (JITParticle or ScipyParticle)\n",
    "                             lon=[initial_longitude], # release longitude\n",
    "                             lat=[initial_latitude],  # release latitude\n",
    "                             time=[t0])     # release time\n",
    "\n",
    "# run the particle advection\n",
    "particle_file=pset.ParticleFile(name=particle_filename, outputdt=output_timestep)\n",
    "pset.execute(AdvectionRK4,\n",
    "             runtime=simulation_time,\n",
    "             dt=dt,\n",
    "             output_file=particle_file\n",
    "            )\n",
    "\n",
    "#pset.show()\n",
    "\n",
    "particle_file.close()"
   ]
  },
  {
   "cell_type": "code",
   "execution_count": null,
   "metadata": {},
   "outputs": [],
   "source": [
    "ds_part= xr.open_dataset('ZUNO_Particles.zarr', engine='zarr')\n",
    "\n",
    "%matplotlib inline\n",
    "plt.figure(figsize=(15,10))\n",
    "\n",
    "(ds.VELUV_ABS[0]).plot.pcolormesh()\n",
    "plt.scatter(ds_part.lon.T,ds_part.lat.T,c=ds_part.time.T,cmap=plt.cm.jet)"
   ]
  },
  {
   "cell_type": "code",
   "execution_count": null,
   "metadata": {},
   "outputs": [],
   "source": []
  }
 ],
 "metadata": {
  "kernelspec": {
   "display_name": "base",
   "language": "python",
   "name": "python3"
  },
  "language_info": {
   "codemirror_mode": {
    "name": "ipython",
    "version": 3
   },
   "file_extension": ".py",
   "mimetype": "text/x-python",
   "name": "python",
   "nbconvert_exporter": "python",
   "pygments_lexer": "ipython3",
   "version": "3.9.13"
  },
  "orig_nbformat": 4,
  "vscode": {
   "interpreter": {
    "hash": "52a89f5df91fad0984dd77466e275ad1bbd3f3c0a21d3287ac9d08473a9fd829"
   }
  }
 },
 "nbformat": 4,
 "nbformat_minor": 2
}
